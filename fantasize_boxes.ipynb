{
 "cells": [
  {
   "cell_type": "code",
   "execution_count": 1,
   "metadata": {},
   "outputs": [],
   "source": [
    "from ast import literal_eval\n",
    "from PIL import Image\n",
    "\n",
    "import torch\n",
    "from transformers import GPT2Tokenizer, GPT2LMHeadModel\n",
    "from transformers import AutoTokenizer, AutoModelForCausalLM\n",
    "import matplotlib.pyplot as plt\n",
    "import matplotlib.patches as patches\n",
    "import numpy as np"
   ]
  },
  {
   "cell_type": "code",
   "execution_count": 2,
   "metadata": {},
   "outputs": [],
   "source": [
    "device = \"cuda\" if torch.cuda.is_available() else \"cpu\""
   ]
  },
  {
   "cell_type": "code",
   "execution_count": 29,
   "metadata": {},
   "outputs": [],
   "source": [
    "text = \"Caption: A fantasy styled overhead shot of two zebras running from a cheetah in the African savannah.\"\n",
    "\n",
    "def get_prompt(text):\n",
    "    return f\"\"\"I will provide you with a caption for a photo , image , or painting . Your task is to generate the bounding boxes for the objects mentioned in the caption , along with a background prompt describing the scene . The images are of size 512 x512 , and the bounding boxes should not overlap or go beyond the image boundaries . Each bounding box should be in the format of ( object name , [ top - left x coordinate , top - left y coordinate , box width , box height ]) and include exactly one object . The background prompt should not contain any objects but can add reasonable details, if necessary . Please refer to the example below for the desired format .\n",
    "\n",
    "    Caption: A realistic image of four skiers standi\"ng in a line on the snow near a palm tree\n",
    "    Objects: [('a skier', [5 , 152 , 139 , 168]) , ('a skier', [278 , 192 , 121 , 158]) , ('a skier', [148 , 173 , 124 , 155]) , ('a palm tree', [404 , 180 , 103 , 180])]\n",
    "    Background prompt: A realistic image of an outdoor scene with snow\n",
    "\n",
    "    Caption: Futuristic painting of a basketball player playing with a football in an indoor gym\n",
    "    Objects: [('a basketball player', [40 , 152 , 156 , 241]) , ('a football', [237 , 17 , 54 , 32])]\n",
    "    Background prompt: Futuristic painting of an indoor gym\n",
    "\n",
    "    Caption: A pixelized image of a toy practicing his swordsmanship in a children's bedroom\n",
    "    Objects: [('a toy', [34 , 145 , 120 , 237])]\n",
    "    Background prompt: A pixelized image of a children's bedroom\n",
    "\n",
    "    Caption: An oil painting of dog swimming in a blue lake towards a large branch\n",
    "    Objects: [('a dog', [208 , 201 , 164 , 89]) , ('a large branch', [156 , 219 , 51 , 29])]\n",
    "    Background prompt: An oil painting of a blue lake\n",
    "\n",
    "    Caption: A low light image of a tractor in a field at sunset\n",
    "    Objects: [ ('a tractor ', [246, 298, 165, 133]) ]\n",
    "    Background prompt: A low light image of a field at sunset\n",
    "\n",
    "    Caption: A surreal image of flower blooming in a pot\n",
    "    Objects: [('flower', [215, 162, 123, 163]), ('a pot', [217, 411, 149, 90])]\n",
    "    Background prompt:  A surreal image of the inside a house\n",
    "\n",
    "    Caption: A watercolor painting of a couple of pandas eating bamboo in a forest\n",
    "    Objects: [('a panda eating bamboo', [30, 133, 212, 226]), ('a panda eating bamboo', [262, 137, 222, 221])]\n",
    "    Background prompt: A watercolor painting of a forest\n",
    "\n",
    "    {text}\"\"\""
   ]
  },
  {
   "cell_type": "code",
   "execution_count": 4,
   "metadata": {},
   "outputs": [],
   "source": [
    "def parse_objects(output_str):\n",
    "    output_parts = output_str.split(\"\\n\")\n",
    "    objects = literal_eval(output_parts[1].strip()[len(\"Objects:\"):].strip())\n",
    "    return objects"
   ]
  },
  {
   "cell_type": "code",
   "execution_count": 5,
   "metadata": {},
   "outputs": [],
   "source": [
    "def plot_bboxes(objects):\n",
    "    im = Image.fromarray(np.ones((512, 512, 3), np.uint8)*255)\n",
    "    fig, ax = plt.subplots()\n",
    "    ax.imshow(im)\n",
    "\n",
    "    for i, obj in enumerate(objects):\n",
    "        print(obj)\n",
    "        label = obj[0]\n",
    "        try:\n",
    "            x, y, w, h = obj[1]\n",
    "        except:\n",
    "            x, y, w, h = literal_eval(obj[1])\n",
    "\n",
    "        # add bounding boxes to the image\n",
    "        box = patches.Rectangle(\n",
    "            (x, y), w, h, edgecolor=\"red\", facecolor=\"none\"\n",
    "        )\n",
    "\n",
    "        ax.add_patch(box)\n",
    "\n",
    "        rx, ry = box.get_xy()\n",
    "        cx = rx + box.get_width()/2.0\n",
    "        cy = ry + box.get_height()/8.0\n",
    "        l = ax.annotate(\n",
    "            label,\n",
    "            (cx, cy),\n",
    "            fontsize=8,\n",
    "            fontweight=\"bold\",\n",
    "            color=\"white\",\n",
    "            ha='center',\n",
    "            va='center'\n",
    "        )\n",
    "        l.set_bbox(\n",
    "            dict(facecolor='red', alpha=0.5, edgecolor='red')\n",
    "        )\n",
    "\n",
    "    plt.show()"
   ]
  },
  {
   "attachments": {},
   "cell_type": "markdown",
   "metadata": {},
   "source": [
    "### Finetuned GPT2-large"
   ]
  },
  {
   "cell_type": "code",
   "execution_count": 19,
   "metadata": {},
   "outputs": [],
   "source": [
    "%%capture\n",
    "\n",
    "tokenizer = GPT2Tokenizer.from_pretrained('gpt2-large')\n",
    "tokenizer.pad_token = tokenizer.eos_token\n",
    "\n",
    "model = GPT2LMHeadModel.from_pretrained(\"checkpoints_large/checkpoint2.pt/\").to(device)\n",
    "model.eval()"
   ]
  },
  {
   "cell_type": "code",
   "execution_count": 41,
   "metadata": {},
   "outputs": [
    {
     "name": "stderr",
     "output_type": "stream",
     "text": [
      "Setting `pad_token_id` to `eos_token_id`:50256 for open-end generation.\n"
     ]
    },
    {
     "name": "stdout",
     "output_type": "stream",
     "text": [
      " \n",
      "Objects: [('a cheetah', [163, 189, 140, 163]), ('two zebras', [3, 116, 508, 398]), ('two zebras', [2, 116, 508, 391])]\n"
     ]
    }
   ],
   "source": [
    "inputs = tokenizer(text, return_tensors='pt').to(model.device)\n",
    "input_length = inputs.input_ids.shape[1]\n",
    "outputs = model.generate(\n",
    "    **inputs, max_new_tokens=128, do_sample=True, temperature=0.7, top_p=0.7, top_k=100, return_dict_in_generate=True\n",
    ")\n",
    "token = outputs.sequences[0, input_length:]\n",
    "output_str = tokenizer.decode(token[:-1])\n",
    "print(output_str)"
   ]
  },
  {
   "cell_type": "code",
   "execution_count": 42,
   "metadata": {},
   "outputs": [
    {
     "name": "stdout",
     "output_type": "stream",
     "text": [
      "('a cheetah', [163, 189, 140, 163])\n",
      "('two zebras', [3, 116, 508, 398])\n",
      "('two zebras', [2, 116, 508, 391])\n"
     ]
    },
    {
     "data": {
      "image/png": "[encoded data removed]",
      "text/plain": [
       "<Figure size 640x480 with 1 Axes>"
      ]
     },
     "metadata": {},
     "output_type": "display_data"
    }
   ],
   "source": [
    "objects = parse_objects(output_str)\n",
    "plot_bboxes(objects)"
   ]
  },
  {
   "attachments": {},
   "cell_type": "markdown",
   "metadata": {},
   "source": [
    "In-context examples"
   ]
  },
  {
   "cell_type": "code",
   "execution_count": 46,
   "metadata": {},
   "outputs": [
    {
     "name": "stderr",
     "output_type": "stream",
     "text": [
      "Setting `pad_token_id` to `eos_token_id`:50256 for open-end generation.\n"
     ]
    },
    {
     "name": "stdout",
     "output_type": "stream",
     "text": [
      "\n",
      "Objects: [('a cheetah', [56, 146, 197, 224]), ('two zebras', [2, 152, 204, 205])]\n"
     ]
    }
   ],
   "source": [
    "inputs = tokenizer(get_prompt(text), return_tensors='pt').to(model.device)\n",
    "input_length = inputs.input_ids.shape[1]\n",
    "outputs = model.generate(\n",
    "    **inputs, max_new_tokens=128, do_sample=True, temperature=0.7, top_p=0.7, top_k=100, return_dict_in_generate=True\n",
    ")\n",
    "token = outputs.sequences[0, input_length:]\n",
    "output_str = tokenizer.decode(token[:-1])\n",
    "print(output_str)"
   ]
  },
  {
   "cell_type": "code",
   "execution_count": 47,
   "metadata": {},
   "outputs": [
    {
     "name": "stdout",
     "output_type": "stream",
     "text": [
      "('a cheetah', [56, 146, 197, 224])\n",
      "('two zebras', [2, 152, 204, 205])\n"
     ]
    },
    {
     "data": {
      "image/png": "[encoded data removed]",
      "text/plain": [
       "<Figure size 640x480 with 1 Axes>"
      ]
     },
     "metadata": {},
     "output_type": "display_data"
    }
   ],
   "source": [
    "objects = parse_objects(output_str)\n",
    "plot_bboxes(objects)"
   ]
  },
  {
   "attachments": {},
   "cell_type": "markdown",
   "metadata": {},
   "source": [
    "### [MPT-1B-redpajama-200b-dolly](https://huggingface.co/mosaicml/mpt-1b-redpajama-200b-dolly)"
   ]
  },
  {
   "cell_type": "code",
   "execution_count": 6,
   "metadata": {},
   "outputs": [
    {
     "name": "stderr",
     "output_type": "stream",
     "text": [
      "C:\\Users\\Shivaen/.cache\\huggingface\\modules\\transformers_modules\\mosaicml\\mpt-1b-redpajama-200b-dolly\\d3586068c3d023c7fcfa3c7dbd3042b2f00db1e3\\attention.py:289: UserWarning: Using `attn_impl: torch`. If your model does not use `alibi` or `prefix_lm` we recommend using `attn_impl: flash` otherwise we recommend using `attn_impl: triton`.\n",
      "  warnings.warn(\n"
     ]
    },
    {
     "name": "stdout",
     "output_type": "stream",
     "text": [
      "You are using config.init_device='cpu', but you can also use config.init_device=\"meta\" with Composer + FSDP for fast initialization.\n"
     ]
    }
   ],
   "source": [
    "tokenizer = AutoTokenizer.from_pretrained(\"mosaicml/mpt-1b-redpajama-200b-dolly\", trust_remote_code=True)\n",
    "model = AutoModelForCausalLM.from_pretrained(\"mosaicml/mpt-1b-redpajama-200b-dolly\", trust_remote_code=True).to(device)"
   ]
  },
  {
   "cell_type": "code",
   "execution_count": 9,
   "metadata": {},
   "outputs": [
    {
     "name": "stdout",
     "output_type": "stream",
     "text": [
      "\n",
      "Objects : [ ('a cheetah ', [156, 217, 51, 29]), ('a zebra ', [205, 137, 227, 227]) ]\n",
      "Background prompt : A fantasy styled overhead shot of two zebras running from a cheetah in the African savannah\n",
      "\n",
      "Caption : A high contrast image of a skier standing in a line on the snow near a palm tree\n",
      "Objects : [ ('a skier ', [5, 152, 139, 168]), ('a skier ', [278, 192, 121, 158]), ('a skier ', [148, 173, 124, 155]), ('\n"
     ]
    }
   ],
   "source": [
    "inputs = tokenizer(get_prompt(text), return_tensors='pt').to(model.device)\n",
    "input_length = inputs.input_ids.shape[1]\n",
    "outputs = model.generate(\n",
    "    **inputs, max_new_tokens=128, do_sample=True, temperature=0.7, top_p=0.7, top_k=100, return_dict_in_generate=True\n",
    ")\n",
    "token = outputs.sequences[0, input_length:]\n",
    "output_str = tokenizer.decode(token)\n",
    "print(output_str)"
   ]
  },
  {
   "cell_type": "code",
   "execution_count": 14,
   "metadata": {},
   "outputs": [
    {
     "data": {
      "image/png": "[encoded data removed]",
      "text/plain": [
       "<Figure size 640x480 with 1 Axes>"
      ]
     },
     "metadata": {},
     "output_type": "display_data"
    }
   ],
   "source": [
    "objects = parse_objects(output_str)\n",
    "plot_bboxes(objects)"
   ]
  },
  {
   "attachments": {},
   "cell_type": "markdown",
   "metadata": {},
   "source": [
    "### [RedPajama-INCITE-Instruct-3B-v1](https://huggingface.co/togethercomputer/RedPajama-INCITE-Instruct-3B-v1)"
   ]
  },
  {
   "cell_type": "code",
   "execution_count": 6,
   "metadata": {},
   "outputs": [
    {
     "data": {
      "application/vnd.jupyter.widget-view+json": {
       "model_id": "1df0bd8861fb47cfa396e89517540504",
       "version_major": 2,
       "version_minor": 0
      },
      "text/plain": [
       "Downloading (…)lve/main/config.json:   0%|          | 0.00/654 [00:00<?, ?B/s]"
      ]
     },
     "metadata": {},
     "output_type": "display_data"
    },
    {
     "name": "stderr",
     "output_type": "stream",
     "text": [
      "c:\\Users\\Shivaen\\anaconda3\\envs\\LayoutSD\\lib\\site-packages\\huggingface_hub\\file_download.py:133: UserWarning: `huggingface_hub` cache-system uses symlinks by default to efficiently store duplicated files but your machine does not support them in C:\\Users\\Shivaen\\.cache\\huggingface\\hub. Caching files will still work but in a degraded version that might require more space on your disk. This warning can be disabled by setting the `HF_HUB_DISABLE_SYMLINKS_WARNING` environment variable. For more details, see https://huggingface.co/docs/huggingface_hub/how-to-cache#limitations.\n",
      "To support symlinks on Windows, you either need to activate Developer Mode or to run Python as an administrator. In order to see activate developer mode, see this article: https://docs.microsoft.com/en-us/windows/apps/get-started/enable-your-device-for-development\n",
      "  warnings.warn(message)\n"
     ]
    },
    {
     "data": {
      "application/vnd.jupyter.widget-view+json": {
       "model_id": "2066abb506154a14839fdc6328c3063c",
       "version_major": 2,
       "version_minor": 0
      },
      "text/plain": [
       "Downloading (…)model.bin.index.json:   0%|          | 0.00/42.0k [00:00<?, ?B/s]"
      ]
     },
     "metadata": {},
     "output_type": "display_data"
    },
    {
     "data": {
      "application/vnd.jupyter.widget-view+json": {
       "model_id": "70530d58fbdc4a0a8c51f1ce10fceca8",
       "version_major": 2,
       "version_minor": 0
      },
      "text/plain": [
       "Downloading shards:   0%|          | 0/2 [00:00<?, ?it/s]"
      ]
     },
     "metadata": {},
     "output_type": "display_data"
    },
    {
     "data": {
      "application/vnd.jupyter.widget-view+json": {
       "model_id": "2894e31003f2420ba1022f4861442937",
       "version_major": 2,
       "version_minor": 0
      },
      "text/plain": [
       "Downloading (…)l-00001-of-00002.bin:   0%|          | 0.00/10.1G [00:00<?, ?B/s]"
      ]
     },
     "metadata": {},
     "output_type": "display_data"
    },
    {
     "data": {
      "application/vnd.jupyter.widget-view+json": {
       "model_id": "6282fbebebe24b7386f4aaa8d3ff469a",
       "version_major": 2,
       "version_minor": 0
      },
      "text/plain": [
       "Downloading (…)l-00002-of-00002.bin:   0%|          | 0.00/1.15G [00:00<?, ?B/s]"
      ]
     },
     "metadata": {},
     "output_type": "display_data"
    },
    {
     "data": {
      "application/vnd.jupyter.widget-view+json": {
       "model_id": "26f4c883d1db412e8181a8ae22c461dc",
       "version_major": 2,
       "version_minor": 0
      },
      "text/plain": [
       "Loading checkpoint shards:   0%|          | 0/2 [00:00<?, ?it/s]"
      ]
     },
     "metadata": {},
     "output_type": "display_data"
    },
    {
     "data": {
      "application/vnd.jupyter.widget-view+json": {
       "model_id": "0fb56acd1d6c417f890f14fedf2beae6",
       "version_major": 2,
       "version_minor": 0
      },
      "text/plain": [
       "Downloading (…)neration_config.json:   0%|          | 0.00/111 [00:00<?, ?B/s]"
      ]
     },
     "metadata": {},
     "output_type": "display_data"
    }
   ],
   "source": [
    "tokenizer = AutoTokenizer.from_pretrained(\"togethercomputer/RedPajama-INCITE-Instruct-3B-v1\")\n",
    "model = AutoModelForCausalLM.from_pretrained(\"shivr/RedPajama-INCITE-Instruct-3B-v1-layout\", torch_dtype=torch.float16)\n",
    "model = model.to('cuda:0')"
   ]
  },
  {
   "cell_type": "code",
   "execution_count": 33,
   "metadata": {},
   "outputs": [
    {
     "name": "stderr",
     "output_type": "stream",
     "text": [
      "Setting `pad_token_id` to `eos_token_id`:0 for open-end generation.\n"
     ]
    },
    {
     "name": "stdout",
     "output_type": "stream",
     "text": [
      ". \n",
      "Objects: [('a man', [161, 7, 354, 928]), ('a dog', [2, 7, 352, 831])]\n",
      "('a man', [161, 7, 354, 928])\n",
      "('a dog', [2, 7, 352, 831])\n"
     ]
    },
    {
     "data": {
      "image/png": "[encoded data removed]",
      "text/plain": [
       "<Figure size 640x480 with 1 Axes>"
      ]
     },
     "metadata": {},
     "output_type": "display_data"
    }
   ],
   "source": [
    "text = \"Caption: A man and his dog playing with a frisbee in the hills\"\n",
    "inputs = tokenizer(text, return_tensors='pt').to(model.device)\n",
    "input_length = inputs.input_ids.shape[1]\n",
    "outputs = model.generate(\n",
    "    **inputs, max_new_tokens=128, do_sample=True, temperature=0.7, top_p=0.7, top_k=100, return_dict_in_generate=True\n",
    ")\n",
    "token = outputs.sequences[0, input_length:-1]\n",
    "output_str = tokenizer.decode(token)\n",
    "print(output_str)\n",
    "objects = parse_objects(output_str)\n",
    "plot_bboxes(objects)"
   ]
  },
  {
   "attachments": {},
   "cell_type": "markdown",
   "metadata": {},
   "source": [
    "In-context examples"
   ]
  },
  {
   "cell_type": "code",
   "execution_count": 19,
   "metadata": {},
   "outputs": [
    {
     "name": "stderr",
     "output_type": "stream",
     "text": [
      "Setting `pad_token_id` to `eos_token_id`:0 for open-end generation.\n"
     ]
    },
    {
     "name": "stdout",
     "output_type": "stream",
     "text": [
      "\n",
      "Objects: [('two zebras', [6, 182, 207, 208]), ('a cheetah', [37, 21, 222, 36])]\n",
      "Background prompt: A fantasy styled overhead shot of two zebras running from a cheetah in the African savannah\n",
      "\n",
      "Caption: A man standing on top of a snow covered mountain with a snowboard in his hand. \n",
      "Objects: [('a snow covered mountain', [2, 2, 202, 205]), ('a snowboard', [1, 93, 127, 52])]\n",
      "Background prompt: A man standing on top of a snow\n"
     ]
    }
   ],
   "source": [
    "inputs = tokenizer(get_prompt(text), return_tensors='pt').to(model.device)\n",
    "input_length = inputs.input_ids.shape[1]\n",
    "outputs = model.generate(\n",
    "    **inputs, max_new_tokens=128, do_sample=True, temperature=0.7, top_p=0.7, top_k=100, return_dict_in_generate=True\n",
    ")\n",
    "token = outputs.sequences[0, input_length:-1]\n",
    "output_str = tokenizer.decode(token)\n",
    "print(output_str)"
   ]
  },
  {
   "cell_type": "code",
   "execution_count": 20,
   "metadata": {},
   "outputs": [
    {
     "name": "stdout",
     "output_type": "stream",
     "text": [
      "('two zebras', [6, 182, 207, 208])\n",
      "('a cheetah', [37, 21, 222, 36])\n"
     ]
    },
    {
     "data": {
      "image/png": "[encoded data removed]",
      "text/plain": [
       "<Figure size 640x480 with 1 Axes>"
      ]
     },
     "metadata": {},
     "output_type": "display_data"
    }
   ],
   "source": [
    "objects = parse_objects(output_str)\n",
    "plot_bboxes(objects)"
   ]
  },
  {
   "cell_type": "code",
   "execution_count": 35,
   "metadata": {},
   "outputs": [
    {
     "name": "stderr",
     "output_type": "stream",
     "text": [
      "Setting `pad_token_id` to `eos_token_id`:0 for open-end generation.\n"
     ]
    },
    {
     "name": "stdout",
     "output_type": "stream",
     "text": [
      "\n",
      "    Objects: [('a man', [178, 165, 163, 169]), ('a dog', [239, 141, 170, 169])]\n",
      "    Background prompt: A man and his dog playing with a frisbee in the hills\n",
      "\n",
      "    Caption: A red fire hydrant sitting next to a street sign\n",
      "    Objects: [('a red fire hydrant', [24, 232, 54, 65]), ('a street sign', [254, 36, 60, 59])]\n",
      "    Background prompt: A red fire hydrant sitting next to a street sign\n",
      "\n",
      "    Caption: A blue and white\n",
      "('a man', [178, 165, 163, 169])\n",
      "('a dog', [239, 141, 170, 169])\n"
     ]
    },
    {
     "data": {
      "image/png": "[encoded data removed]",
      "text/plain": [
       "<Figure size 640x480 with 1 Axes>"
      ]
     },
     "metadata": {},
     "output_type": "display_data"
    }
   ],
   "source": [
    "text = \"Caption: A man and his dog playing with a frisbee in the hills\"\n",
    "inputs = tokenizer(get_prompt(text), return_tensors='pt').to(model.device)\n",
    "input_length = inputs.input_ids.shape[1]\n",
    "outputs = model.generate(\n",
    "    **inputs, max_new_tokens=128, do_sample=True, temperature=0.7, top_p=0.7, top_k=100, return_dict_in_generate=True\n",
    ")\n",
    "token = outputs.sequences[0, input_length:-1]\n",
    "output_str = tokenizer.decode(token)\n",
    "print(output_str)\n",
    "objects = parse_objects(output_str)\n",
    "plot_bboxes(objects)"
   ]
  },
  {
   "cell_type": "code",
   "execution_count": 39,
   "metadata": {},
   "outputs": [
    {
     "name": "stderr",
     "output_type": "stream",
     "text": [
      "Setting `pad_token_id` to `eos_token_id`:0 for open-end generation.\n"
     ]
    },
    {
     "name": "stdout",
     "output_type": "stream",
     "text": [
      ". \n",
      "Objects: [('juggler', [5, 4, 3, 2]), ('bowling pin', [2, 2, 1, 1])]\n",
      "('juggler', [5, 4, 3, 2])\n",
      "('bowling pin', [2, 2, 1, 1])\n"
     ]
    },
    {
     "data": {
      "image/png": "[encoded data removed]",
      "text/plain": [
       "<Figure size 640x480 with 1 Axes>"
      ]
     },
     "metadata": {},
     "output_type": "display_data"
    }
   ],
   "source": [
    "text = \"Caption: 4 jugglers juggling 4 bowling pins\"\n",
    "inputs = tokenizer(text, return_tensors='pt').to(model.device)\n",
    "input_length = inputs.input_ids.shape[1]\n",
    "outputs = model.generate(\n",
    "    **inputs, max_new_tokens=128, do_sample=True, temperature=0.7, top_p=0.7, top_k=100, return_dict_in_generate=True\n",
    ")\n",
    "token = outputs.sequences[0, input_length:-1]\n",
    "output_str = tokenizer.decode(token)\n",
    "print(output_str)\n",
    "objects = parse_objects(output_str)\n",
    "plot_bboxes(objects)"
   ]
  },
  {
   "cell_type": "code",
   "execution_count": 41,
   "metadata": {},
   "outputs": [
    {
     "name": "stderr",
     "output_type": "stream",
     "text": [
      "Setting `pad_token_id` to `eos_token_id`:0 for open-end generation.\n"
     ]
    },
    {
     "name": "stdout",
     "output_type": "stream",
     "text": [
      ". \n",
      "Objects: [('a video game arcade', [102, 116, 205, 169])]\n",
      "('a video game arcade', [102, 116, 205, 169])\n"
     ]
    },
    {
     "data": {
      "image/png": "[encoded data removed]",
      "text/plain": [
       "<Figure size 640x480 with 1 Axes>"
      ]
     },
     "metadata": {},
     "output_type": "display_data"
    }
   ],
   "source": [
    "text = \"Caption: A realistic camera shot a video game arcade at night\"\n",
    "inputs = tokenizer(text, return_tensors='pt').to(model.device)\n",
    "input_length = inputs.input_ids.shape[1]\n",
    "outputs = model.generate(\n",
    "    **inputs, max_new_tokens=128, do_sample=True, temperature=0.7, top_p=0.7, top_k=100, return_dict_in_generate=True\n",
    ")\n",
    "token = outputs.sequences[0, input_length:-1]\n",
    "output_str = tokenizer.decode(token)\n",
    "print(output_str)\n",
    "objects = parse_objects(output_str)\n",
    "plot_bboxes(objects)"
   ]
  },
  {
   "cell_type": "code",
   "execution_count": 47,
   "metadata": {},
   "outputs": [
    {
     "name": "stderr",
     "output_type": "stream",
     "text": [
      "Setting `pad_token_id` to `eos_token_id`:0 for open-end generation.\n"
     ]
    },
    {
     "name": "stdout",
     "output_type": "stream",
     "text": [
      ". \n",
      "Objects: [('an oil painting', [7, 3, 502, 506]), ('3 varieties of flowers', [2, 406, 899, 793]), ('a pond', [1, 4, 936, 723])]\n",
      "('an oil painting', [7, 3, 502, 506])\n",
      "('3 varieties of flowers', [2, 406, 899, 793])\n",
      "('a pond', [1, 4, 936, 723])\n"
     ]
    },
    {
     "data": {
      "image/png": "[encoded data removed]",
      "text/plain": [
       "<Figure size 640x480 with 1 Axes>"
      ]
     },
     "metadata": {},
     "output_type": "display_data"
    }
   ],
   "source": [
    "text = \"Caption: An oil painting of 3 varieties of flowers blooming next to a pond\"\n",
    "inputs = tokenizer(text, return_tensors='pt').to(model.device)\n",
    "input_length = inputs.input_ids.shape[1]\n",
    "outputs = model.generate(\n",
    "    **inputs, max_new_tokens=128, do_sample=True, temperature=0.7, top_p=0.7, top_k=100, return_dict_in_generate=True\n",
    ")\n",
    "token = outputs.sequences[0, input_length:-1]\n",
    "output_str = tokenizer.decode(token)\n",
    "print(output_str)\n",
    "objects = parse_objects(output_str)\n",
    "plot_bboxes(objects)"
   ]
  },
  {
   "attachments": {},
   "cell_type": "markdown",
   "metadata": {},
   "source": [
    "### [RedPajama-INCITE-7B-Instruct](https://huggingface.co/togethercomputer/RedPajama-INCITE-7B-Instruct)"
   ]
  },
  {
   "cell_type": "code",
   "execution_count": 6,
   "metadata": {},
   "outputs": [
    {
     "data": {
      "application/vnd.jupyter.widget-view+json": {
       "model_id": "b790080949ba4ea38c842176ac7a9bff",
       "version_major": 2,
       "version_minor": 0
      },
      "text/plain": [
       "Loading checkpoint shards:   0%|          | 0/2 [00:00<?, ?it/s]"
      ]
     },
     "metadata": {},
     "output_type": "display_data"
    }
   ],
   "source": [
    "tokenizer = AutoTokenizer.from_pretrained(\"togethercomputer/RedPajama-INCITE-7B-Instruct\")\n",
    "model = AutoModelForCausalLM.from_pretrained(\"togethercomputer/RedPajama-INCITE-7B-Instruct\", torch_dtype=torch.float16)\n",
    "model = model.to('cuda:0')"
   ]
  },
  {
   "cell_type": "code",
   "execution_count": 7,
   "metadata": {},
   "outputs": [
    {
     "name": "stderr",
     "output_type": "stream",
     "text": [
      "Setting `pad_token_id` to `eos_token_id`:0 for open-end generation.\n"
     ]
    },
    {
     "name": "stdout",
     "output_type": "stream",
     "text": [
      "\n",
      "Objects : [ ('a cheetah ', [32, 30, 200, 224]), ('two zebras ', [208, 224, 168, 198]) ]\n",
      "Background prompt : A fantasy styled overhead shot of two zebras running from a cheetah in the African savannah\n",
      "\n",
      "Caption : A photo of a woman on a tennis court with a tennis racket\n",
      "Objects : [ ('a tennis racket ', [46, 224, 54, 216]), ('a tennis player ', [64, 216, 144, 240]), ('a tennis court ', [224, 96, 96, 96]) ]\n",
      "Background prompt : A\n"
     ]
    }
   ],
   "source": [
    "inputs = tokenizer(get_prompt(text), return_tensors='pt').to(model.device)\n",
    "input_length = inputs.input_ids.shape[1]\n",
    "outputs = model.generate(\n",
    "    **inputs, max_new_tokens=128, do_sample=True, temperature=0.7, top_p=0.7, top_k=100, return_dict_in_generate=True\n",
    ")\n",
    "token = outputs.sequences[0, input_length:]\n",
    "output_str = tokenizer.decode(token)\n",
    "print(output_str)"
   ]
  },
  {
   "cell_type": "code",
   "execution_count": 8,
   "metadata": {},
   "outputs": [
    {
     "data": {
      "image/png": "[encoded data removed]",
      "text/plain": [
       "<Figure size 640x480 with 1 Axes>"
      ]
     },
     "metadata": {},
     "output_type": "display_data"
    }
   ],
   "source": [
    "objects = parse_objects(output_str)\n",
    "plot_bboxes(objects)"
   ]
  },
  {
   "cell_type": "code",
   "execution_count": null,
   "metadata": {},
   "outputs": [],
   "source": []
  }
 ],
 "metadata": {
  "kernelspec": {
   "display_name": "LayoutSD",
   "language": "python",
   "name": "python3"
  },
  "language_info": {
   "codemirror_mode": {
    "name": "ipython",
    "version": 3
   },
   "file_extension": ".py",
   "mimetype": "text/x-python",
   "name": "python",
   "nbconvert_exporter": "python",
   "pygments_lexer": "ipython3",
   "version": "3.9.16"
  },
  "orig_nbformat": 4
 },
 "nbformat": 4,
 "nbformat_minor": 2
}
